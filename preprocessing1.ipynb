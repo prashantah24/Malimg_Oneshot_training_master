{
 "cells": [
  {
   "cell_type": "code",
   "execution_count": 24,
   "metadata": {},
   "outputs": [],
   "source": [
    "import PIL\n",
    "import os\n",
    "import os.path\n",
    "from PIL import Image\n",
    "\n",
    "\n",
    "path = r'E:/malimg_dataset/malimg_paper_dataset_imgs/VB.AT/'\n",
    "for file in os.listdir(path): \n",
    "    f_img = path+\"/\"+file\n",
    "    img = Image.open(f_img)\n",
    "    img = img.resize((105, 105)) #(width, height)\n",
    "    img.save(f_img)"
   ]
  },
  {
   "cell_type": "code",
   "execution_count": 25,
   "metadata": {},
   "outputs": [],
   "source": [
    "path = r'E:/malimg_dataset/malimg_paper_dataset_imgs/Wintrim.BX/'\n",
    "for file in os.listdir(path): \n",
    "    f_img = path+\"/\"+file\n",
    "    img = Image.open(f_img)\n",
    "    img = img.resize((105, 105)) #(width, height)\n",
    "    img.save(f_img)"
   ]
  },
  {
   "cell_type": "code",
   "execution_count": 26,
   "metadata": {},
   "outputs": [],
   "source": [
    "path = r'E:/malimg_dataset/malimg_paper_dataset_imgs/Yuner.A/'\n",
    "for file in os.listdir(path): \n",
    "    f_img = path+\"/\"+file\n",
    "    img = Image.open(f_img)\n",
    "    img = img.resize((105, 105)) #(width, height)\n",
    "    img.save(f_img)"
   ]
  },
  {
   "cell_type": "code",
   "execution_count": 22,
   "metadata": {},
   "outputs": [],
   "source": [
    "path = r'E:/malimg_dataset/malimg_paper_dataset_imgs/Swizzor.gen!E/'\n",
    "for file in os.listdir(path): \n",
    "    f_img = path+\"/\"+file\n",
    "    img = Image.open(f_img)\n",
    "    img = img.resize((105, 105)) #(width, height)\n",
    "    img.save(f_img)"
   ]
  },
  {
   "cell_type": "code",
   "execution_count": 23,
   "metadata": {},
   "outputs": [],
   "source": [
    "path = r'E:/malimg_dataset/malimg_paper_dataset_imgs/Swizzor.gen!I/'\n",
    "for file in os.listdir(path): \n",
    "    f_img = path+\"/\"+file\n",
    "    img = Image.open(f_img)\n",
    "    img = img.resize((105, 105)) #(width, height)\n",
    "    img.save(f_img)"
   ]
  },
  {
   "cell_type": "code",
   "execution_count": 10,
   "metadata": {},
   "outputs": [],
   "source": [
    "path = r'C:/Users/91948/Deep learning/Malimg_Oneshot_training/Evaluating_data/Malware/Lolyda.AA1/'\n",
    "for file in os.listdir(path): \n",
    "    f_img = path+\"/\"+file\n",
    "    img = Image.open(f_img)\n",
    "    img = img.resize((100, 100)) #(width, height)\n",
    "    img.save(f_img)\n",
    "    #C:\\Users\\91948\\Deep learning\\Malimg_Oneshot_training\\Evaluating_data\\Malware\\Lolyda.AA1"
   ]
  },
  {
   "cell_type": "code",
   "execution_count": 11,
   "metadata": {},
   "outputs": [],
   "source": [
    "path = r'C:/Users/91948/Deep learning/Malimg_Oneshot_training/Training_data/Malware_ev/Lolyda.AA1/'\n",
    "for file in os.listdir(path): \n",
    "    f_img = path+\"/\"+file\n",
    "    img = Image.open(f_img)\n",
    "    img = img.resize((100, 100)) #(width, height)\n",
    "    img.save(f_img)"
   ]
  }
 ],
 "metadata": {
  "kernelspec": {
   "display_name": "Python 3",
   "language": "python",
   "name": "python3"
  },
  "language_info": {
   "codemirror_mode": {
    "name": "ipython",
    "version": 3
   },
   "file_extension": ".py",
   "mimetype": "text/x-python",
   "name": "python",
   "nbconvert_exporter": "python",
   "pygments_lexer": "ipython3",
   "version": "3.6.12"
  }
 },
 "nbformat": 4,
 "nbformat_minor": 4
}
